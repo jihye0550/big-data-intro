{
 "cells": [
  {
   "cell_type": "code",
   "execution_count": 1,
   "id": "e27f13e5-7584-460c-8a8d-3f7f26f97174",
   "metadata": {},
   "outputs": [],
   "source": [
    "# SparkSession 설정\n",
    "from pyspark.sql import SparkSession\n",
    "spark = SparkSession.builder.master('local').appName('age-type-3-with-sql').getOrCreate()"
   ]
  },
  {
   "cell_type": "code",
   "execution_count": 2,
   "id": "05c0a990-63b3-45d9-8b6f-2f003ba8c04c",
   "metadata": {},
   "outputs": [],
   "source": [
    "# 샘플 데이터: 사람들의 나이 및 직업 정보\n",
    "personal_info = [\n",
    "    ('Taylor Swift', 33, 'Singer-songwriter'),\n",
    "    ('Gordon Ramsay', 56, 'Chef'),\n",
    "    ('박찬암', 33, '보안전문가'),\n",
    "    ('Miranda Cosgrove', 30, 'Actress'),\n",
    "    ('유재석', 50, '연예인'),\n",
    "    ('이혜정', 66, '요리연구가'),\n",
    "    ('Daniel Fenton', 14, 'Student_character')\n",
    "]\n"
   ]
  },
  {
   "cell_type": "code",
   "execution_count": 3,
   "id": "3007f6b5-7b82-4814-9f49-b5f0612182b7",
   "metadata": {},
   "outputs": [],
   "source": [
    "# 스키마 정의에 필요한 클래스 임포트\n",
    "from pyspark.sql.types import StructType, StructField, StringType, IntegerType\n",
    "schema = StructType([\n",
    "    StructField('person_name', StringType(), False),\n",
    "    StructField('age', IntegerType(), False),\n",
    "    StructField('job', StringType(), True)\n",
    "])"
   ]
  },
  {
   "cell_type": "code",
   "execution_count": 4,
   "id": "24010df9-e590-4d87-89cf-687943a3d0f7",
   "metadata": {},
   "outputs": [],
   "source": [
    "# 데이터프레임 생성\n",
    "df = spark.createDataFrame(data=personal_info, schema=schema)"
   ]
  },
  {
   "cell_type": "code",
   "execution_count": 5,
   "id": "03176789-562c-4a1e-ad2b-130331ca1a4e",
   "metadata": {},
   "outputs": [
    {
     "name": "stdout",
     "output_type": "stream",
     "text": [
      "+----------------+---+-----------------+\n",
      "|     person_name|age|              job|\n",
      "+----------------+---+-----------------+\n",
      "|    Taylor Swift| 33|Singer-songwriter|\n",
      "|   Gordon Ramsay| 56|             Chef|\n",
      "|          박찬암| 33|       보안전문가|\n",
      "|Miranda Cosgrove| 30|          Actress|\n",
      "|          유재석| 50|           연예인|\n",
      "|          이혜정| 66|       요리연구가|\n",
      "|   Daniel Fenton| 14|Student_character|\n",
      "+----------------+---+-----------------+\n",
      "\n"
     ]
    }
   ],
   "source": [
    "# 데이터프레임 출력\n",
    "df.show()"
   ]
  },
  {
   "cell_type": "code",
   "execution_count": 6,
   "id": "b4f317c0-5f15-452d-a5e1-6142be09059e",
   "metadata": {},
   "outputs": [
    {
     "name": "stdout",
     "output_type": "stream",
     "text": [
      "root\n",
      " |-- person_name: string (nullable = false)\n",
      " |-- age: integer (nullable = false)\n",
      " |-- job: string (nullable = true)\n",
      "\n"
     ]
    }
   ],
   "source": [
    "# 데이터프레임 스키마 출력\n",
    "df.printSchema()"
   ]
  },
  {
   "cell_type": "code",
   "execution_count": 7,
   "id": "15dfd432-15c1-4e43-b479-bff7f705aa84",
   "metadata": {},
   "outputs": [],
   "source": [
    "# Temporary View 생성\n",
    "df.createOrReplaceTempView('people')"
   ]
  },
  {
   "cell_type": "code",
   "execution_count": 8,
   "id": "15bb5086-1abf-4151-8251-03d5d55b3045",
   "metadata": {},
   "outputs": [],
   "source": [
    "# UDF: 나이 -> 청년, 장년, 노인으로 분류하는 함수\n",
    "# 세계 최고령자 연령: 115(2023.01 기준)를 참고\n",
    "\n",
    "def age_category(age):\n",
    "    if age >= 0 and age < 35:\n",
    "        return 'young'\n",
    "    elif age < 60:\n",
    "        return 'adult'\n",
    "    elif age < 115:\n",
    "        return 'senior'\n"
   ]
  },
  {
   "cell_type": "code",
   "execution_count": 9,
   "id": "50b99302-db4f-4a30-9cad-1dac1ad84b79",
   "metadata": {},
   "outputs": [
    {
     "data": {
      "text/plain": [
       "<function __main__.age_category(age)>"
      ]
     },
     "execution_count": 9,
     "metadata": {},
     "output_type": "execute_result"
    }
   ],
   "source": [
    "# UDF 등록\n",
    "from pyspark.sql.functions import udf\n",
    "spark.udf.register('age_category', age_category)"
   ]
  },
  {
   "cell_type": "code",
   "execution_count": 10,
   "id": "09e3e748-c776-4e4e-a33d-528ed35fc9b4",
   "metadata": {},
   "outputs": [
    {
     "name": "stdout",
     "output_type": "stream",
     "text": [
      "+----------------+---+-----------------+\n",
      "|     person_name|age|              job|\n",
      "+----------------+---+-----------------+\n",
      "|    Taylor Swift| 33|Singer-songwriter|\n",
      "|   Gordon Ramsay| 56|             Chef|\n",
      "|          박찬암| 33|       보안전문가|\n",
      "|Miranda Cosgrove| 30|          Actress|\n",
      "|          유재석| 50|           연예인|\n",
      "|          이혜정| 66|       요리연구가|\n",
      "|   Daniel Fenton| 14|Student_character|\n",
      "+----------------+---+-----------------+\n",
      "\n"
     ]
    }
   ],
   "source": [
    "df.show()"
   ]
  },
  {
   "cell_type": "code",
   "execution_count": 11,
   "id": "466043c5-5212-4841-9e79-5d430ed623f5",
   "metadata": {},
   "outputs": [
    {
     "name": "stdout",
     "output_type": "stream",
     "text": [
      "+----------------+---------+\n",
      "|     person_name|age_typed|\n",
      "+----------------+---------+\n",
      "|    Taylor Swift|    young|\n",
      "|   Gordon Ramsay|    adult|\n",
      "|          박찬암|    young|\n",
      "|Miranda Cosgrove|    young|\n",
      "|          유재석|    adult|\n",
      "|          이혜정|   senior|\n",
      "|   Daniel Fenton|    young|\n",
      "+----------------+---------+\n",
      "\n"
     ]
    }
   ],
   "source": [
    "# 과제 수행\n",
    "spark.sql(\n",
    "    \"SELECT person_name, age_category(age) AS age_typed \\\n",
    "    FROM people\").show()"
   ]
  },
  {
   "cell_type": "code",
   "execution_count": 12,
   "id": "7897320e-2273-4f5f-9c9e-904fb6ec2fe1",
   "metadata": {},
   "outputs": [
    {
     "name": "stdout",
     "output_type": "stream",
     "text": [
      "+----------------+---------+\n",
      "|     person_name|age_typed|\n",
      "+----------------+---------+\n",
      "|   Daniel Fenton|    young|\n",
      "|Miranda Cosgrove|    young|\n",
      "|    Taylor Swift|    young|\n",
      "|          박찬암|    young|\n",
      "|          유재석|    adult|\n",
      "|   Gordon Ramsay|    adult|\n",
      "|          이혜정|   senior|\n",
      "+----------------+---------+\n",
      "\n"
     ]
    }
   ],
   "source": [
    "# 연령을 기준으로 오름차순 정렬을 추가로 수행\n",
    "spark.sql(\n",
    "    \"SELECT person_name, age_category(age) AS age_typed \\\n",
    "    FROM people \\\n",
    "    ORDER BY age ASC\").show()"
   ]
  },
  {
   "cell_type": "code",
   "execution_count": null,
   "id": "ad487d76-13eb-42e7-8762-b8f37fbad009",
   "metadata": {},
   "outputs": [],
   "source": []
  }
 ],
 "metadata": {
  "kernelspec": {
   "display_name": "Python 3 (ipykernel)",
   "language": "python",
   "name": "python3"
  },
  "language_info": {
   "codemirror_mode": {
    "name": "ipython",
    "version": 3
   },
   "file_extension": ".py",
   "mimetype": "text/x-python",
   "name": "python",
   "nbconvert_exporter": "python",
   "pygments_lexer": "ipython3",
   "version": "3.9.13"
  }
 },
 "nbformat": 4,
 "nbformat_minor": 5
}
